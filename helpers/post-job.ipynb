{
 "cells": [
  {
   "cell_type": "markdown",
   "metadata": {},
   "source": [
    "# Send questions via API enpoint"
   ]
  },
  {
   "cell_type": "code",
   "execution_count": null,
   "metadata": {},
   "outputs": [],
   "source": [
    "import json\n",
    "import requests\n",
    "\n",
    "JSON_FILE = \"data.json\"  # Your JSON file containing items\n",
    "API_URL = \"https://chnu-student-interview-preparation.netlify.app/.netlify/functions/createQuestion\" \n",
    "AUTH_TOKEN = \"token\"  # Replace with your actual token"
   ]
  },
  {
   "cell_type": "code",
   "execution_count": 4,
   "metadata": {},
   "outputs": [
    {
     "name": "stdout",
     "output_type": "stream",
     "text": [
      "✅ Successfully sent item: {'question': 'test? now with python script!', 'answers': ['test', 'test', 'test', 'test'], 'correctAnswerId': 3, 'topic': 'test'}\n",
      "✅ Successfully sent item: {'question': 'test? now with python script 2!', 'answers': ['test', 'test', 'test', 'test'], 'correctAnswerId': 3, 'topic': 'test'}\n"
     ]
    }
   ],
   "source": [
    "# Load JSON file\n",
    "with open(JSON_FILE, \"r\", encoding=\"utf-8\") as file:\n",
    "    data = json.load(file)\n",
    "\n",
    "# Ensure the data contains an array\n",
    "if not isinstance(data, list):\n",
    "    print(\"Error: JSON file must contain an array of items.\")\n",
    "    exit(1)\n",
    "\n",
    "# Send each item via POST request\n",
    "for item in data:\n",
    "    response = requests.post(\n",
    "        API_URL,\n",
    "        json=item,  # Send JSON body\n",
    "        headers={\"Authorization\": f\"Bearer {AUTH_TOKEN}\", \"Content-Type\": \"application/json\"},\n",
    "    )\n",
    "\n",
    "    if response.status_code == 201:\n",
    "        print(f\"✅ Successfully sent item: {item}\")\n",
    "    else:\n",
    "        print(f\"❌ Failed to send item: {item}\")\n",
    "        print(f\"Response ({response.status_code}): {response.text}\")"
   ]
  }
 ],
 "metadata": {
  "kernelspec": {
   "display_name": "Python 3",
   "language": "python",
   "name": "python3"
  },
  "language_info": {
   "codemirror_mode": {
    "name": "ipython",
    "version": 3
   },
   "file_extension": ".py",
   "mimetype": "text/x-python",
   "name": "python",
   "nbconvert_exporter": "python",
   "pygments_lexer": "ipython3",
   "version": "3.10.0"
  }
 },
 "nbformat": 4,
 "nbformat_minor": 2
}
